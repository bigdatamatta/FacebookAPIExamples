{
 "cells": [
  {
   "cell_type": "markdown",
   "metadata": {},
   "source": [
    "# 1. 抓取特定Fanpage前10頁POST文 並將其存入到 CSV"
   ]
  },
  {
   "cell_type": "markdown",
   "metadata": {},
   "source": [
    "## 以兩個粉絲頁為例\n",
    "### https://www.facebook.com/ETtodaySTAR/ ; https://www.facebook.com/imDataMan/"
   ]
  },
  {
   "cell_type": "markdown",
   "metadata": {},
   "source": [
    "## 在執行程式前 需先至FB Gragh API申請 \n",
    "## 暫時權杖(Access Token)\n",
    "### https://developers.facebook.com/tools/explorer\n",
    "## OR\n",
    "## 長時權杖(Access Token)\n",
    "### https://developers.facebook.com/tools/accesstoken/\n",
    "## 完整說明請參考https://developers.facebook.com/docs/graph-api/"
   ]
  },
  {
   "cell_type": "code",
   "execution_count": null,
   "metadata": {
    "collapsed": true
   },
   "outputs": [],
   "source": [
    "import requests\n",
    "import pandas as pd \n",
    "from dateutil.parser import parse"
   ]
  },
  {
   "cell_type": "code",
   "execution_count": null,
   "metadata": {
    "collapsed": true
   },
   "outputs": [],
   "source": [
    "MyToken = \"EAACEdEose0cBAAYIx1ore2pRPN00FisZAVYdZCALZCFj9Q0vBHSJ1NOWzdvMkslPlIZCXnQOZADxcZC1ovZBXanP5BztsWdj0CiUXrAISn3XXZBdKSnuZCwuis9RTaM61UZCTGi5fva3ZBzpsOwjR1nf1p8iQX7Drwy3qNDs9g4eRBCnanofscwgrzi392QTwjHZCB0ZD\""
   ]
  },
  {
   "cell_type": "code",
   "execution_count": null,
   "metadata": {
    "collapsed": true
   },
   "outputs": [],
   "source": [
    "def getUserInputForURLs():\n",
    "    urllist = []\n",
    "    userinput = ''\n",
    "    while True:\n",
    "        print(\"請輸入facebook's fanpage\\n\")\n",
    "        userinput = input(\"輸入Q or q 結束\")\n",
    "        if userinput == 'q' or userinput == 'Q':\n",
    "            break\n",
    "        else:\n",
    "            urllist.append(userinput+'?fref=ts')\n",
    "    return urllist"
   ]
  },
  {
   "cell_type": "code",
   "execution_count": null,
   "metadata": {
    "collapsed": true
   },
   "outputs": [],
   "source": [
    "def getIDs(urllist, MyToken):\n",
    "    fanpages = {}\n",
    "    for ele in urllist:\n",
    "        res = requests.get('https://graph.facebook.com/v2.8/{}&access_token={}'.format(ele, MyToken))\n",
    "        print(res.json())\n",
    "        if 'og_object' in res.json():\n",
    "            print(res.json()['og_object']['id'])\n",
    "            resID = res.json()['og_object']['id']\n",
    "            fanpages[resID] =  res.json()['id']\n",
    "\n",
    "        else:\n",
    "            res.json()\n",
    "            resID = res.json()['id']\n",
    "            fanpages[resID] =  res.json()['name']\n",
    "            print(res.json()['id'])\n",
    "    return fanpages"
   ]
  },
  {
   "cell_type": "code",
   "execution_count": null,
   "metadata": {
    "collapsed": true
   },
   "outputs": [],
   "source": [
    "def getPosts(fanpage, MyToken):\n",
    "    #建立一個空的list          \n",
    "    information_list = []\n",
    "    #使用for迴圈依序讀取粉絲頁的資訊，並使用format將id與token傳入{}裡\n",
    "    for ele in fanpages:\n",
    "        res = requests.get('https://graph.facebook.com/v2.8/{}/posts?limit=100&access_token={}'.format(ele, MyToken))\n",
    "        count = 0 \n",
    "        while 'paging' in res.json() and count < 10:\n",
    "            count += 1\n",
    "            for information in res.json()['data']:\n",
    "                if 'message' in information:\n",
    "                    information_list.append([fanpage[ele], information['message'], parse(information['created_time']).date()])\n",
    "            try:\n",
    "                res = requests.get(res.json()['paging']['next'])\n",
    "            except:\n",
    "                pass\n",
    "    return information_list"
   ]
  },
  {
   "cell_type": "code",
   "execution_count": null,
   "metadata": {
    "collapsed": false
   },
   "outputs": [],
   "source": [
    "#main ebtry\n",
    "#https://www.facebook.com/ETtodaySTAR/ ; https://www.facebook.com/imDataMan/\n",
    "print(\"Facebook爬蟲主程式開始\")\n",
    "urllist = getUserInputForURLs()\n",
    "fanpages = getIDs(urllist, MyToken)\n",
    "information_list = getPosts(fanpages,MyToken)\n",
    "information_df = pd.DataFrame(information_list, columns=['粉絲專頁', '發文內容', '發文時間']) \n",
    "information_df.to_csv('Facebook爬文內容_1.csv', index=False) "
   ]
  },
  {
   "cell_type": "code",
   "execution_count": null,
   "metadata": {
    "collapsed": false
   },
   "outputs": [],
   "source": [
    "information_df"
   ]
  },
  {
   "cell_type": "code",
   "execution_count": null,
   "metadata": {
    "collapsed": false
   },
   "outputs": [],
   "source": [
    "urllist"
   ]
  },
  {
   "cell_type": "markdown",
   "metadata": {},
   "source": [
    "# 2. 搜尋符合主題的Fanpage並將抓取前2頁POST文 並將其存入到 CSV"
   ]
  },
  {
   "cell_type": "code",
   "execution_count": 21,
   "metadata": {
    "collapsed": false
   },
   "outputs": [],
   "source": [
    "import requests\n",
    "import pandas as pd \n",
    "from dateutil.parser import parse\n",
    "MyToken = \"EAACEdEose0cBAAYIx1ore2pRPN00FisZAVYdZCALZCFj9Q0vBHSJ1NOWzdvMkslPlIZCXnQOZADxcZC1ovZBXanP5BztsWdj0CiUXrAISn3XXZBdKSnuZCwuis9RTaM61UZCTGi5fva3ZBzpsOwjR1nf1p8iQX7Drwy3qNDs9g4eRBCnanofscwgrzi392QTwjHZCB0ZD\""
   ]
  },
  {
   "cell_type": "code",
   "execution_count": 22,
   "metadata": {
    "collapsed": false
   },
   "outputs": [],
   "source": [
    "def getUserInputForSearch():\n",
    "    topic_list = []\n",
    "    userinput = ''\n",
    "    while True:\n",
    "        print(\"請輸入要搜尋facebook's fanpage\\n\")\n",
    "        userinput = input(\"輸入Q or q 結束\")\n",
    "        if userinput == 'q' or userinput == 'Q':\n",
    "            break\n",
    "        else:\n",
    "            topic_list.append(userinput)\n",
    "    return topic_list"
   ]
  },
  {
   "cell_type": "code",
   "execution_count": 23,
   "metadata": {
    "collapsed": true
   },
   "outputs": [],
   "source": [
    "def getIDs(topic_list, MyToken):\n",
    "    fanpages = {}\n",
    "    for ele in topic_list:\n",
    "        #search?q=python&type=page\n",
    "        res = requests.get('https://graph.facebook.com/v2.8/search?q={}&type=page&access_token={}'.format(ele, MyToken))\n",
    "        #print(res.json())\n",
    "        for i in res.json()['data']:\n",
    "            resID = i['id']\n",
    "            fanpages[resID] = i['name']\n",
    "\n",
    "    return fanpages"
   ]
  },
  {
   "cell_type": "code",
   "execution_count": 27,
   "metadata": {
    "collapsed": true
   },
   "outputs": [],
   "source": [
    "def getPosts(fanpage, MyToken):\n",
    "    import time\n",
    "    start = time.time()\n",
    "    #建立一個空的list          \n",
    "    information_list = []\n",
    "    #使用for迴圈依序讀取粉絲頁的資訊，並使用format將id與token傳入{}裡\n",
    "    for ele in fanpages:\n",
    "        res = requests.get('https://graph.facebook.com/v2.8/{}/posts?limit=5&access_token={}'.format(ele, MyToken))\n",
    "        count = 0 \n",
    "        while 'paging' in res.json() and count < 2:\n",
    "            count += 1\n",
    "            for information in res.json()['data']:\n",
    "                if 'message' in information:\n",
    "                    information_list.append([fanpage[ele], information['message'], parse(information['created_time']).date()])\n",
    "            try:\n",
    "                res = requests.get(res.json()['paging']['next'])\n",
    "            except:\n",
    "                pass\n",
    "    done = time.time()\n",
    "    elapsed = done - start\n",
    "    print(\"總共花費 %d secs!\" %(elapsed)) \n",
    "    return information_list"
   ]
  },
  {
   "cell_type": "code",
   "execution_count": null,
   "metadata": {
    "collapsed": false
   },
   "outputs": [],
   "source": []
  },
  {
   "cell_type": "code",
   "execution_count": 31,
   "metadata": {
    "collapsed": false
   },
   "outputs": [
    {
     "name": "stdout",
     "output_type": "stream",
     "text": [
      "請輸入要搜尋facebook's fanpage\n",
      "\n",
      "輸入Q or q 結束茹絲葵\n",
      "請輸入要搜尋facebook's fanpage\n",
      "\n",
      "輸入Q or q 結束q\n",
      "總共有 1 主題!\n",
      "相關共有 25 Fanpages!\n",
      "總共花費 31 secs!\n",
      "總共抓了 19 Post文!\n"
     ]
    }
   ],
   "source": [
    "topic_list = getUserInputForSearch()\n",
    "print(\"總共有 %d 主題!\" % (len(topic_list))) \n",
    "fanpages = getIDs(topic_list, MyToken)\n",
    "print(\"相關共有 %d Fanpages!\" % (len(fanpages))) \n",
    "information_list = getPosts(fanpages, MyToken)\n",
    "print(\"總共抓了 %d Post文!\" %(len(information_list))) \n",
    "information_df = pd.DataFrame(information_list, columns=['粉絲專頁', '發文內容', '發文時間']) \n",
    "information_df.to_csv('Facebook搜尋post內容_1.csv', index=False) "
   ]
  },
  {
   "cell_type": "code",
   "execution_count": 32,
   "metadata": {
    "collapsed": false
   },
   "outputs": [
    {
     "data": {
      "text/html": [
       "<div>\n",
       "<table border=\"1\" class=\"dataframe\">\n",
       "  <thead>\n",
       "    <tr style=\"text-align: right;\">\n",
       "      <th></th>\n",
       "      <th>粉絲專頁</th>\n",
       "      <th>發文內容</th>\n",
       "      <th>發文時間</th>\n",
       "    </tr>\n",
       "  </thead>\n",
       "  <tbody>\n",
       "    <tr>\n",
       "      <th>0</th>\n",
       "      <td>Ruth's Chris Steak House茹絲葵經典牛排館台灣</td>\n",
       "      <td>茹絲葵母親節套餐(Mother's Day Menu)\\n\\n讓我們為這個特別日子裡的美好相...</td>\n",
       "      <td>2017-05-08</td>\n",
       "    </tr>\n",
       "    <tr>\n",
       "      <th>1</th>\n",
       "      <td>Ruth's Chris Steak House茹絲葵經典牛排館台灣</td>\n",
       "      <td>茹絲葵情人節套餐(Valentine’s Menu 2017)\\n堅持選用只佔市場不到2%的...</td>\n",
       "      <td>2017-02-10</td>\n",
       "    </tr>\n",
       "    <tr>\n",
       "      <th>2</th>\n",
       "      <td>Ruth's Chris Steak House茹絲葵經典牛排館台灣</td>\n",
       "      <td>提前和大家拜個年，祝願各位新春佳節愉快！\\n\\n茹絲葵新年時間營業時間公告如下：\\n1/27...</td>\n",
       "      <td>2017-01-19</td>\n",
       "    </tr>\n",
       "    <tr>\n",
       "      <th>3</th>\n",
       "      <td>Ruth's Chris Steak House茹絲葵經典牛排館台灣</td>\n",
       "      <td>歲末年終之際，茹絲葵為您推薦俄國沙皇指定的\\n黃金佳釀「水晶香檳」(Cristal Cham...</td>\n",
       "      <td>2016-12-13</td>\n",
       "    </tr>\n",
       "    <tr>\n",
       "      <th>4</th>\n",
       "      <td>Ruth's Chris Steak House茹絲葵經典牛排館台灣</td>\n",
       "      <td>歲末年終之際，最適合用美食佳釀犒賞自己！\\n\\n***茹絲葵推出2016節慶套餐Holida...</td>\n",
       "      <td>2016-11-25</td>\n",
       "    </tr>\n",
       "    <tr>\n",
       "      <th>5</th>\n",
       "      <td>Ruth's Chris Steak House茹絲葵經典牛排館台灣</td>\n",
       "      <td>挑選多汁的蘑菇鑲入半顆拳頭大小的蟹肉\\n蟹餡綿密、鮮甜，搭配羅瑪諾起司和西芹等蔬菜完美調味，...</td>\n",
       "      <td>2016-11-04</td>\n",
       "    </tr>\n",
       "    <tr>\n",
       "      <th>6</th>\n",
       "      <td>Ruth's Chris Steak House茹絲葵經典牛排館台灣</td>\n",
       "      <td>以兩種純度比例不同的巧克力結合Espresso\\n不加入任何蛋糕體和麵粉做成蛋糕\\n\\n香濃...</td>\n",
       "      <td>2016-10-24</td>\n",
       "    </tr>\n",
       "    <tr>\n",
       "      <th>7</th>\n",
       "      <td>Ruth's Chris Steak House茹絲葵經典牛排館台灣</td>\n",
       "      <td>免去與蟹殼纏鬥，以拳頭般大小扎實的蟹餅\\n優雅呈現\\n\\n極鮮的蟹肉，佐以檸檬奶油香\\n在保...</td>\n",
       "      <td>2016-09-30</td>\n",
       "    </tr>\n",
       "    <tr>\n",
       "      <th>8</th>\n",
       "      <td>Ruth's Chris Steak House茹絲葵經典牛排館台灣</td>\n",
       "      <td>頂級牛排當前，我們從不失手！\\nWe don’t fool around when it c...</td>\n",
       "      <td>2016-08-28</td>\n",
       "    </tr>\n",
       "    <tr>\n",
       "      <th>9</th>\n",
       "      <td>炤茹絲葵</td>\n",
       "      <td>🍃鹹鹹市集🍃\\n結束了兩天的市集,收穫滿滿的\\n隔壁的香港弟弟妹妹很乖的陪媽媽來,妹妹也喜歡...</td>\n",
       "      <td>2016-04-25</td>\n",
       "    </tr>\n",
       "    <tr>\n",
       "      <th>10</th>\n",
       "      <td>炤茹絲葵</td>\n",
       "      <td>今天很順利的結束了\\n謝謝來找我的人更謝謝小幫手們💞\\n\\n明天同一時間在同樣的地方哦\\n快...</td>\n",
       "      <td>2016-04-23</td>\n",
       "    </tr>\n",
       "    <tr>\n",
       "      <th>11</th>\n",
       "      <td>炤茹絲葵</td>\n",
       "      <td>就是明天～～～～\\n大家空出時間一起來玩哦</td>\n",
       "      <td>2016-04-22</td>\n",
       "    </tr>\n",
       "    <tr>\n",
       "      <th>12</th>\n",
       "      <td>炤茹絲葵</td>\n",
       "      <td>哈囉好久不見,\\n結束了台北的實習之後又摸魚了一陣子\\n原本想就這樣擱著粉絲專頁\\n但遇上鹹...</td>\n",
       "      <td>2016-04-21</td>\n",
       "    </tr>\n",
       "    <tr>\n",
       "      <th>13</th>\n",
       "      <td>炤茹絲葵</td>\n",
       "      <td>👾\\n再過兩個禮拜就要北上實習了\\n所以可能有一陣子不會出現 也沒有新商品\\n\\n原本為了今...</td>\n",
       "      <td>2015-07-18</td>\n",
       "    </tr>\n",
       "    <tr>\n",
       "      <th>14</th>\n",
       "      <td>炤茹絲葵</td>\n",
       "      <td>🎓\\n畢業小卡片來囉～總共有四種顏色:\\n米黃色 灰色 藍綠色 非常淺的粉紅色\\n這次的卡片...</td>\n",
       "      <td>2015-06-21</td>\n",
       "    </tr>\n",
       "    <tr>\n",
       "      <th>15</th>\n",
       "      <td>炤茹絲葵</td>\n",
       "      <td>明信片正式開始賣啦～～\\n一張35$,三張全包優惠100$\\n\\n總共三款,正反皆不相同\\n...</td>\n",
       "      <td>2015-05-30</td>\n",
       "    </tr>\n",
       "    <tr>\n",
       "      <th>16</th>\n",
       "      <td>炤茹絲葵</td>\n",
       "      <td>☔️\\n最近入手的紙膠帶神之QQ\\n\\n好煩 因為每天都在下雨\\n也因為下雨 所以沒辦法拿明...</td>\n",
       "      <td>2015-05-23</td>\n",
       "    </tr>\n",
       "    <tr>\n",
       "      <th>17</th>\n",
       "      <td>炤茹絲葵</td>\n",
       "      <td>這是明信片其中一個款式的背面 \\n是我最喜歡的一個\\n\\n明天早上9-12點在澎科大觀休系攤...</td>\n",
       "      <td>2015-05-16</td>\n",
       "    </tr>\n",
       "    <tr>\n",
       "      <th>18</th>\n",
       "      <td>炤茹絲葵</td>\n",
       "      <td>哇哇哇哇\\n這～是～什～麼～勒～</td>\n",
       "      <td>2015-05-13</td>\n",
       "    </tr>\n",
       "  </tbody>\n",
       "</table>\n",
       "</div>"
      ],
      "text/plain": [
       "                                  粉絲專頁  \\\n",
       "0   Ruth's Chris Steak House茹絲葵經典牛排館台灣   \n",
       "1   Ruth's Chris Steak House茹絲葵經典牛排館台灣   \n",
       "2   Ruth's Chris Steak House茹絲葵經典牛排館台灣   \n",
       "3   Ruth's Chris Steak House茹絲葵經典牛排館台灣   \n",
       "4   Ruth's Chris Steak House茹絲葵經典牛排館台灣   \n",
       "5   Ruth's Chris Steak House茹絲葵經典牛排館台灣   \n",
       "6   Ruth's Chris Steak House茹絲葵經典牛排館台灣   \n",
       "7   Ruth's Chris Steak House茹絲葵經典牛排館台灣   \n",
       "8   Ruth's Chris Steak House茹絲葵經典牛排館台灣   \n",
       "9                                 炤茹絲葵   \n",
       "10                                炤茹絲葵   \n",
       "11                                炤茹絲葵   \n",
       "12                                炤茹絲葵   \n",
       "13                                炤茹絲葵   \n",
       "14                                炤茹絲葵   \n",
       "15                                炤茹絲葵   \n",
       "16                                炤茹絲葵   \n",
       "17                                炤茹絲葵   \n",
       "18                                炤茹絲葵   \n",
       "\n",
       "                                                 發文內容        發文時間  \n",
       "0   茹絲葵母親節套餐(Mother's Day Menu)\\n\\n讓我們為這個特別日子裡的美好相...  2017-05-08  \n",
       "1   茹絲葵情人節套餐(Valentine’s Menu 2017)\\n堅持選用只佔市場不到2%的...  2017-02-10  \n",
       "2   提前和大家拜個年，祝願各位新春佳節愉快！\\n\\n茹絲葵新年時間營業時間公告如下：\\n1/27...  2017-01-19  \n",
       "3   歲末年終之際，茹絲葵為您推薦俄國沙皇指定的\\n黃金佳釀「水晶香檳」(Cristal Cham...  2016-12-13  \n",
       "4   歲末年終之際，最適合用美食佳釀犒賞自己！\\n\\n***茹絲葵推出2016節慶套餐Holida...  2016-11-25  \n",
       "5   挑選多汁的蘑菇鑲入半顆拳頭大小的蟹肉\\n蟹餡綿密、鮮甜，搭配羅瑪諾起司和西芹等蔬菜完美調味，...  2016-11-04  \n",
       "6   以兩種純度比例不同的巧克力結合Espresso\\n不加入任何蛋糕體和麵粉做成蛋糕\\n\\n香濃...  2016-10-24  \n",
       "7   免去與蟹殼纏鬥，以拳頭般大小扎實的蟹餅\\n優雅呈現\\n\\n極鮮的蟹肉，佐以檸檬奶油香\\n在保...  2016-09-30  \n",
       "8   頂級牛排當前，我們從不失手！\\nWe don’t fool around when it c...  2016-08-28  \n",
       "9   🍃鹹鹹市集🍃\\n結束了兩天的市集,收穫滿滿的\\n隔壁的香港弟弟妹妹很乖的陪媽媽來,妹妹也喜歡...  2016-04-25  \n",
       "10  今天很順利的結束了\\n謝謝來找我的人更謝謝小幫手們💞\\n\\n明天同一時間在同樣的地方哦\\n快...  2016-04-23  \n",
       "11                              就是明天～～～～\\n大家空出時間一起來玩哦  2016-04-22  \n",
       "12  哈囉好久不見,\\n結束了台北的實習之後又摸魚了一陣子\\n原本想就這樣擱著粉絲專頁\\n但遇上鹹...  2016-04-21  \n",
       "13  👾\\n再過兩個禮拜就要北上實習了\\n所以可能有一陣子不會出現 也沒有新商品\\n\\n原本為了今...  2015-07-18  \n",
       "14  🎓\\n畢業小卡片來囉～總共有四種顏色:\\n米黃色 灰色 藍綠色 非常淺的粉紅色\\n這次的卡片...  2015-06-21  \n",
       "15  明信片正式開始賣啦～～\\n一張35$,三張全包優惠100$\\n\\n總共三款,正反皆不相同\\n...  2015-05-30  \n",
       "16  ☔️\\n最近入手的紙膠帶神之QQ\\n\\n好煩 因為每天都在下雨\\n也因為下雨 所以沒辦法拿明...  2015-05-23  \n",
       "17  這是明信片其中一個款式的背面 \\n是我最喜歡的一個\\n\\n明天早上9-12點在澎科大觀休系攤...  2015-05-16  \n",
       "18                                   哇哇哇哇\\n這～是～什～麼～勒～  2015-05-13  "
      ]
     },
     "execution_count": 32,
     "metadata": {},
     "output_type": "execute_result"
    }
   ],
   "source": [
    "information_df"
   ]
  },
  {
   "cell_type": "code",
   "execution_count": 16,
   "metadata": {
    "collapsed": false
   },
   "outputs": [
    {
     "data": {
      "text/plain": [
       "412"
      ]
     },
     "execution_count": 16,
     "metadata": {},
     "output_type": "execute_result"
    }
   ],
   "source": []
  },
  {
   "cell_type": "code",
   "execution_count": null,
   "metadata": {
    "collapsed": true
   },
   "outputs": [],
   "source": []
  }
 ],
 "metadata": {
  "kernelspec": {
   "display_name": "Python [Root]",
   "language": "python",
   "name": "Python [Root]"
  },
  "language_info": {
   "codemirror_mode": {
    "name": "ipython",
    "version": 3
   },
   "file_extension": ".py",
   "mimetype": "text/x-python",
   "name": "python",
   "nbconvert_exporter": "python",
   "pygments_lexer": "ipython3",
   "version": "3.5.2"
  }
 },
 "nbformat": 4,
 "nbformat_minor": 0
}
